{
 "cells": [
  {
   "cell_type": "markdown",
   "id": "6aa2e412",
   "metadata": {},
   "source": [
    "# LASI 2021 Machine Learning Workshop\n",
    "\n",
    "## Multiple Linear Regression"
   ]
  },
  {
   "cell_type": "markdown",
   "id": "c0a639e1",
   "metadata": {},
   "source": [
    "## Step 1: Identify target and feature variables"
   ]
  },
  {
   "cell_type": "markdown",
   "id": "25752bfd",
   "metadata": {},
   "source": [
    "**Target Variable**: The variable I am trying to predict.\n",
    "\n",
    "**Feature Variables**: The variables I will use to make the prediction.\n",
    "\n",
    "For regression, the target variable is *continuous*."
   ]
  },
  {
   "cell_type": "markdown",
   "id": "c688e69a",
   "metadata": {},
   "source": [
    "We will represent the target variable as $y$ and the feature variables as $x_1$, $x_2$, $\\ldots$ $x_n$"
   ]
  },
  {
   "cell_type": "markdown",
   "id": "e69dc368",
   "metadata": {},
   "source": [
    "In a linear regression, we are trying to find a set of coefficients such that:\n",
    "\n",
    "$$ y \\approx \\beta_0 + \\beta_1x_1 + \\ \\beta_2x_2 + \\ldots \\beta_nx_n$$"
   ]
  },
  {
   "cell_type": "markdown",
   "id": "24b0d403",
   "metadata": {},
   "source": [
    "## Step 2: Plug in target and variables into formula"
   ]
  },
  {
   "cell_type": "code",
   "execution_count": null,
   "id": "824105f1",
   "metadata": {},
   "outputs": [],
   "source": [
    "#  plug in variables for y and x; note formula is just a python string\n",
    "formula = \"y ~ x1 + x2 + ... xn\"\n"
   ]
  },
  {
   "cell_type": "markdown",
   "id": "dd7f6ee4",
   "metadata": {},
   "source": [
    "## Step 3: Run the regression"
   ]
  },
  {
   "cell_type": "code",
   "execution_count": null,
   "id": "cebef025",
   "metadata": {},
   "outputs": [],
   "source": [
    "#run the regression\n",
    "model = smf.ols(formula, data=df).fit()"
   ]
  },
  {
   "cell_type": "markdown",
   "id": "12aa0d75",
   "metadata": {},
   "source": [
    "## Step 4: Retrieve the parameters or coefficients"
   ]
  },
  {
   "cell_type": "code",
   "execution_count": null,
   "id": "029b5006",
   "metadata": {},
   "outputs": [],
   "source": [
    "# retrieve the parameters or coefficients\n",
    "model.params"
   ]
  },
  {
   "cell_type": "markdown",
   "id": "a0887bfe",
   "metadata": {},
   "source": [
    "## Step 5: Obtain a summary report of the regression"
   ]
  },
  {
   "cell_type": "code",
   "execution_count": null,
   "id": "1f299cf8",
   "metadata": {},
   "outputs": [],
   "source": [
    "# summary of regression\n",
    "model.summary()"
   ]
  },
  {
   "cell_type": "markdown",
   "id": "3b630653",
   "metadata": {},
   "source": [
    "# Example"
   ]
  },
  {
   "cell_type": "markdown",
   "id": "42db39ca",
   "metadata": {},
   "source": [
    "This particular dataset contains average SAT scores by US state for the years 2005 - 2015. It contains GPA and family income data."
   ]
  },
  {
   "cell_type": "code",
   "execution_count": null,
   "id": "ae429f7f",
   "metadata": {},
   "outputs": [],
   "source": [
    "import pandas as pd\n",
    "import numpy as np\n",
    "import matplotlib.pyplot as plt\n",
    "import statsmodels.formula.api as smf"
   ]
  },
  {
   "cell_type": "code",
   "execution_count": null,
   "id": "67435ab6",
   "metadata": {},
   "outputs": [],
   "source": [
    "# load data set\n",
    "df = pd.read_csv(\"data/school_scores.csv\")"
   ]
  },
  {
   "cell_type": "code",
   "execution_count": null,
   "id": "575b9ae9",
   "metadata": {},
   "outputs": [],
   "source": [
    "df.head()"
   ]
  },
  {
   "cell_type": "code",
   "execution_count": null,
   "id": "8677a87f",
   "metadata": {},
   "outputs": [],
   "source": [
    "# Select a subset of the dataset. We don't want all the columns\n",
    "\n",
    "df = df[['Year', 'State.Code','Total.Math','Total.Verbal',\n",
    "         'Academic Subjects.Mathematics.Average GPA','Academic Subjects.English.Average GPA',\n",
    "         'Academic Subjects.Mathematics.Average Years','Academic Subjects.English.Average Years',\n",
    "         'Total.Test-takers']]"
   ]
  },
  {
   "cell_type": "code",
   "execution_count": null,
   "id": "1701639b",
   "metadata": {},
   "outputs": [],
   "source": [
    "# shorten the names\n",
    "df.columns=['Year','State','MathSAT','VerbalSAT',\n",
    "            'MathGPA','EnglishGPA',\n",
    "            'MathYrs','EnglishYrs',\n",
    "            'TotalTested']"
   ]
  },
  {
   "cell_type": "markdown",
   "id": "f7cd83f4",
   "metadata": {},
   "source": [
    "## Run First Regression"
   ]
  },
  {
   "cell_type": "markdown",
   "id": "54ae6cc8",
   "metadata": {},
   "source": [
    "**First Regression:** At this point, let's go back up and do a regression of ``MathSAT ~ MathGPA``. We will also try ``VerbalSAT ~ EnglishGPA``"
   ]
  },
  {
   "cell_type": "code",
   "execution_count": null,
   "id": "e92477a3",
   "metadata": {},
   "outputs": [],
   "source": [
    "plt.plot(df.MathGPA, df.MathSAT, '+')"
   ]
  },
  {
   "cell_type": "markdown",
   "id": "6f2abb16",
   "metadata": {},
   "source": [
    "## Run Second Regression"
   ]
  },
  {
   "cell_type": "markdown",
   "id": "3934430d",
   "metadata": {},
   "source": [
    "**Second Regression:** We will create some new columns and run a second regression. This time our target variable will be ``TotalSAT ~ AvgGPA + TotalYrs``. But to run it we need to create some new columns. "
   ]
  },
  {
   "cell_type": "code",
   "execution_count": null,
   "id": "ca42ae27",
   "metadata": {},
   "outputs": [],
   "source": [
    "df = df.assign(TotalSAT = lambda x: x['MathSAT'] + x['VerbalSAT'])\n",
    "df = df.assign(TotalYrs = lambda x: x['MathYrs'] + x['EnglishYrs'])\n",
    "df = df.assign(AvgGPA = lambda x: (x['MathGPA'] + x['EnglishGPA'])/2)"
   ]
  },
  {
   "cell_type": "code",
   "execution_count": null,
   "id": "a4d53f35",
   "metadata": {},
   "outputs": [],
   "source": [
    "df.head()"
   ]
  },
  {
   "cell_type": "markdown",
   "id": "205a1bed",
   "metadata": {},
   "source": [
    "## Run Third Regression"
   ]
  },
  {
   "cell_type": "markdown",
   "id": "fc99334f",
   "metadata": {},
   "source": [
    "**Third Regression:** For the third regression we will create a new category /column called region. Then we will run a regression for ``TotalSAT ~ AvgGPA + TotalYrs + C(Region``"
   ]
  },
  {
   "cell_type": "code",
   "execution_count": null,
   "id": "f687409c",
   "metadata": {},
   "outputs": [],
   "source": [
    "southeast = [\"WV\",\"VA\",\"KY\",\"TN\",\"NC\",\"SC\",\"GA\",\"AL\",\"MI\",\"AR\",\"LA\",\"FL\",\"MS\"]\n",
    "southwest  = [\"TX\",\"OK\",\"NM\",\"AZ\"]\n",
    "west =[\"CO\",\"WY\",\"MT\",\"ID\",\"WA\",\"OR\",\"UT\",\"NV\",\"CA\",\"AK\",\"HI\"]\n",
    "northeast =[\"MA\",\"NJ\",\"NY\",\"CT\",\"RI\",\"ME\",\"VT\",\"NH\",\"PA\",\"DE\",\"MD\"]\n",
    "midwest = [\"OH\",\"IN\",\"MI\",\"MN\",\"IL\",\"MO\",\"WI\",\"IA\",\"KS\",\"NE\",\"SD\",\"ND\"]\n",
    "\n",
    "\n",
    "def create_region(state):\n",
    "    if state in southeast:\n",
    "        region = \"south\"\n",
    "    elif state in northeast:\n",
    "        region = \"northeast\"\n",
    "    elif state in west:\n",
    "        region = \"west\"\n",
    "    elif state in southwest:\n",
    "        region = \"southwest\"\n",
    "    elif state in midwest:\n",
    "        region = \"midwest\"\n",
    "    else:\n",
    "        region = \"other\"\n",
    "    return region\n",
    "    "
   ]
  },
  {
   "cell_type": "code",
   "execution_count": null,
   "id": "174dbc4e",
   "metadata": {},
   "outputs": [],
   "source": [
    "df['Region'] = df['State'].apply(create_region)"
   ]
  }
 ],
 "metadata": {
  "kernelspec": {
   "display_name": "Python 3",
   "language": "python",
   "name": "python3"
  },
  "language_info": {
   "codemirror_mode": {
    "name": "ipython",
    "version": 3
   },
   "file_extension": ".py",
   "mimetype": "text/x-python",
   "name": "python",
   "nbconvert_exporter": "python",
   "pygments_lexer": "ipython3",
   "version": "3.8.8"
  }
 },
 "nbformat": 4,
 "nbformat_minor": 5
}

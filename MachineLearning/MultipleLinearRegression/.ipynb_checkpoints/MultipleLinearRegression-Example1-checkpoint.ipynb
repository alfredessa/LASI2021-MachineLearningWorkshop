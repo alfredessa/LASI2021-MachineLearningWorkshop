{
 "cells": [
  {
   "cell_type": "markdown",
   "id": "6aa2e412",
   "metadata": {},
   "source": [
    "# LASI 2021 Machine Learning Workshop\n",
    "\n",
    "## Multiple Linear Regression"
   ]
  },
  {
   "cell_type": "markdown",
   "id": "c0a639e1",
   "metadata": {},
   "source": [
    "## Step 1: Identify target and feature variables"
   ]
  },
  {
   "cell_type": "markdown",
   "id": "25752bfd",
   "metadata": {},
   "source": [
    "**Target Variable**: The variable I am trying to predict.\n",
    "\n",
    "**Feature Variables**: The variables I will use to make the prediction.\n",
    "\n",
    "For regression, the target variable is *continuous*."
   ]
  },
  {
   "cell_type": "markdown",
   "id": "c688e69a",
   "metadata": {},
   "source": [
    "We will represent the target variable as $y$ and the feature variables as $x_1$, $x_2$, $\\ldots$ $x_n$"
   ]
  },
  {
   "cell_type": "markdown",
   "id": "e69dc368",
   "metadata": {},
   "source": [
    "In a linear regression, we are trying to find a set of coefficients such that:\n",
    "\n",
    "$$ y \\approx \\beta_0 + \\beta_1x_1 + \\ \\beta_2x_2 + \\ldots \\beta_nx_n$$"
   ]
  },
  {
   "cell_type": "markdown",
   "id": "24b0d403",
   "metadata": {},
   "source": [
    "## Step 2: Plug in target and variables into formula"
   ]
  },
  {
   "cell_type": "code",
   "execution_count": 1,
   "id": "824105f1",
   "metadata": {},
   "outputs": [],
   "source": [
    "#  plug in variables for y and x; note formula is just a python string\n",
    "formula = \"y ~ x1 + x2 + ... xn\"\n"
   ]
  },
  {
   "cell_type": "markdown",
   "id": "dd7f6ee4",
   "metadata": {},
   "source": [
    "## Step 3: Run the regression"
   ]
  },
  {
   "cell_type": "code",
   "execution_count": 26,
   "id": "cebef025",
   "metadata": {},
   "outputs": [],
   "source": [
    "#run the regression\n",
    "model = smf.ols(formula, data=df).fit()"
   ]
  },
  {
   "cell_type": "markdown",
   "id": "12aa0d75",
   "metadata": {},
   "source": [
    "## Step 4: Retrieve the parameters or coefficients"
   ]
  },
  {
   "cell_type": "code",
   "execution_count": 27,
   "id": "029b5006",
   "metadata": {},
   "outputs": [
    {
     "data": {
      "text/plain": [
       "Intercept                -149.134795\n",
       "C(Region)[T.northeast]    -54.352994\n",
       "C(Region)[T.other]       -154.320371\n",
       "C(Region)[T.south]        -58.493234\n",
       "C(Region)[T.southwest]    -52.605356\n",
       "C(Region)[T.west]         -39.024900\n",
       "AvgGPA                    248.661340\n",
       "TotalYrs                   52.733081\n",
       "dtype: float64"
      ]
     },
     "execution_count": 27,
     "metadata": {},
     "output_type": "execute_result"
    }
   ],
   "source": [
    "# retrieve the parameters or coefficients\n",
    "model.params"
   ]
  },
  {
   "cell_type": "markdown",
   "id": "a0887bfe",
   "metadata": {},
   "source": [
    "## Step 5: Obtain a summary report of the regression"
   ]
  },
  {
   "cell_type": "code",
   "execution_count": 28,
   "id": "1f299cf8",
   "metadata": {},
   "outputs": [
    {
     "data": {
      "text/html": [
       "<table class=\"simpletable\">\n",
       "<caption>OLS Regression Results</caption>\n",
       "<tr>\n",
       "  <th>Dep. Variable:</th>        <td>TotalSAT</td>     <th>  R-squared:         </th> <td>   0.813</td> \n",
       "</tr>\n",
       "<tr>\n",
       "  <th>Model:</th>                   <td>OLS</td>       <th>  Adj. R-squared:    </th> <td>   0.811</td> \n",
       "</tr>\n",
       "<tr>\n",
       "  <th>Method:</th>             <td>Least Squares</td>  <th>  F-statistic:       </th> <td>   354.1</td> \n",
       "</tr>\n",
       "<tr>\n",
       "  <th>Date:</th>             <td>Wed, 23 Jun 2021</td> <th>  Prob (F-statistic):</th> <td>1.05e-202</td>\n",
       "</tr>\n",
       "<tr>\n",
       "  <th>Time:</th>                 <td>16:04:03</td>     <th>  Log-Likelihood:    </th> <td> -2930.4</td> \n",
       "</tr>\n",
       "<tr>\n",
       "  <th>No. Observations:</th>      <td>   577</td>      <th>  AIC:               </th> <td>   5877.</td> \n",
       "</tr>\n",
       "<tr>\n",
       "  <th>Df Residuals:</th>          <td>   569</td>      <th>  BIC:               </th> <td>   5912.</td> \n",
       "</tr>\n",
       "<tr>\n",
       "  <th>Df Model:</th>              <td>     7</td>      <th>                     </th>     <td> </td>    \n",
       "</tr>\n",
       "<tr>\n",
       "  <th>Covariance Type:</th>      <td>nonrobust</td>    <th>                     </th>     <td> </td>    \n",
       "</tr>\n",
       "</table>\n",
       "<table class=\"simpletable\">\n",
       "<tr>\n",
       "             <td></td>               <th>coef</th>     <th>std err</th>      <th>t</th>      <th>P>|t|</th>  <th>[0.025</th>    <th>0.975]</th>  \n",
       "</tr>\n",
       "<tr>\n",
       "  <th>Intercept</th>              <td> -149.1348</td> <td>   68.693</td> <td>   -2.171</td> <td> 0.030</td> <td> -284.057</td> <td>  -14.213</td>\n",
       "</tr>\n",
       "<tr>\n",
       "  <th>C(Region)[T.northeast]</th> <td>  -54.3530</td> <td>    6.493</td> <td>   -8.371</td> <td> 0.000</td> <td>  -67.106</td> <td>  -41.600</td>\n",
       "</tr>\n",
       "<tr>\n",
       "  <th>C(Region)[T.other]</th>     <td> -154.3204</td> <td>    9.433</td> <td>  -16.359</td> <td> 0.000</td> <td> -172.849</td> <td> -135.792</td>\n",
       "</tr>\n",
       "<tr>\n",
       "  <th>C(Region)[T.south]</th>     <td>  -58.4932</td> <td>    5.019</td> <td>  -11.653</td> <td> 0.000</td> <td>  -68.352</td> <td>  -48.634</td>\n",
       "</tr>\n",
       "<tr>\n",
       "  <th>C(Region)[T.southwest]</th> <td>  -52.6054</td> <td>    7.112</td> <td>   -7.396</td> <td> 0.000</td> <td>  -66.575</td> <td>  -38.636</td>\n",
       "</tr>\n",
       "<tr>\n",
       "  <th>C(Region)[T.west]</th>      <td>  -39.0249</td> <td>    5.658</td> <td>   -6.898</td> <td> 0.000</td> <td>  -50.138</td> <td>  -27.912</td>\n",
       "</tr>\n",
       "<tr>\n",
       "  <th>AvgGPA</th>                 <td>  248.6613</td> <td>   16.128</td> <td>   15.418</td> <td> 0.000</td> <td>  216.985</td> <td>  280.338</td>\n",
       "</tr>\n",
       "<tr>\n",
       "  <th>TotalYrs</th>               <td>   52.7331</td> <td>   12.135</td> <td>    4.345</td> <td> 0.000</td> <td>   28.898</td> <td>   76.568</td>\n",
       "</tr>\n",
       "</table>\n",
       "<table class=\"simpletable\">\n",
       "<tr>\n",
       "  <th>Omnibus:</th>       <td>39.298</td> <th>  Durbin-Watson:     </th> <td>   1.741</td>\n",
       "</tr>\n",
       "<tr>\n",
       "  <th>Prob(Omnibus):</th> <td> 0.000</td> <th>  Jarque-Bera (JB):  </th> <td>  69.142</td>\n",
       "</tr>\n",
       "<tr>\n",
       "  <th>Skew:</th>          <td>-0.459</td> <th>  Prob(JB):          </th> <td>9.68e-16</td>\n",
       "</tr>\n",
       "<tr>\n",
       "  <th>Kurtosis:</th>      <td> 4.425</td> <th>  Cond. No.          </th> <td>    370.</td>\n",
       "</tr>\n",
       "</table><br/><br/>Notes:<br/>[1] Standard Errors assume that the covariance matrix of the errors is correctly specified."
      ],
      "text/plain": [
       "<class 'statsmodels.iolib.summary.Summary'>\n",
       "\"\"\"\n",
       "                            OLS Regression Results                            \n",
       "==============================================================================\n",
       "Dep. Variable:               TotalSAT   R-squared:                       0.813\n",
       "Model:                            OLS   Adj. R-squared:                  0.811\n",
       "Method:                 Least Squares   F-statistic:                     354.1\n",
       "Date:                Wed, 23 Jun 2021   Prob (F-statistic):          1.05e-202\n",
       "Time:                        16:04:03   Log-Likelihood:                -2930.4\n",
       "No. Observations:                 577   AIC:                             5877.\n",
       "Df Residuals:                     569   BIC:                             5912.\n",
       "Df Model:                           7                                         \n",
       "Covariance Type:            nonrobust                                         \n",
       "==========================================================================================\n",
       "                             coef    std err          t      P>|t|      [0.025      0.975]\n",
       "------------------------------------------------------------------------------------------\n",
       "Intercept               -149.1348     68.693     -2.171      0.030    -284.057     -14.213\n",
       "C(Region)[T.northeast]   -54.3530      6.493     -8.371      0.000     -67.106     -41.600\n",
       "C(Region)[T.other]      -154.3204      9.433    -16.359      0.000    -172.849    -135.792\n",
       "C(Region)[T.south]       -58.4932      5.019    -11.653      0.000     -68.352     -48.634\n",
       "C(Region)[T.southwest]   -52.6054      7.112     -7.396      0.000     -66.575     -38.636\n",
       "C(Region)[T.west]        -39.0249      5.658     -6.898      0.000     -50.138     -27.912\n",
       "AvgGPA                   248.6613     16.128     15.418      0.000     216.985     280.338\n",
       "TotalYrs                  52.7331     12.135      4.345      0.000      28.898      76.568\n",
       "==============================================================================\n",
       "Omnibus:                       39.298   Durbin-Watson:                   1.741\n",
       "Prob(Omnibus):                  0.000   Jarque-Bera (JB):               69.142\n",
       "Skew:                          -0.459   Prob(JB):                     9.68e-16\n",
       "Kurtosis:                       4.425   Cond. No.                         370.\n",
       "==============================================================================\n",
       "\n",
       "Notes:\n",
       "[1] Standard Errors assume that the covariance matrix of the errors is correctly specified.\n",
       "\"\"\""
      ]
     },
     "execution_count": 28,
     "metadata": {},
     "output_type": "execute_result"
    }
   ],
   "source": [
    "# summary of regression\n",
    "model.summary()"
   ]
  },
  {
   "cell_type": "markdown",
   "id": "3b630653",
   "metadata": {},
   "source": [
    "# Example"
   ]
  },
  {
   "cell_type": "markdown",
   "id": "42db39ca",
   "metadata": {},
   "source": [
    "This particular dataset contains average SAT scores by US state for the years 2005 - 2015. It contains GPA and family income data."
   ]
  },
  {
   "cell_type": "code",
   "execution_count": 1,
   "id": "ae429f7f",
   "metadata": {},
   "outputs": [],
   "source": [
    "import pandas as pd\n",
    "import numpy as np\n",
    "import matplotlib.pyplot as plt\n",
    "import statsmodels.formula.api as smf"
   ]
  },
  {
   "cell_type": "code",
   "execution_count": 2,
   "id": "67435ab6",
   "metadata": {},
   "outputs": [],
   "source": [
    "# load data set\n",
    "df = pd.read_csv(\"data/school_scores.csv\")"
   ]
  },
  {
   "cell_type": "code",
   "execution_count": 3,
   "id": "575b9ae9",
   "metadata": {},
   "outputs": [
    {
     "data": {
      "text/html": [
       "<div>\n",
       "<style scoped>\n",
       "    .dataframe tbody tr th:only-of-type {\n",
       "        vertical-align: middle;\n",
       "    }\n",
       "\n",
       "    .dataframe tbody tr th {\n",
       "        vertical-align: top;\n",
       "    }\n",
       "\n",
       "    .dataframe thead th {\n",
       "        text-align: right;\n",
       "    }\n",
       "</style>\n",
       "<table border=\"1\" class=\"dataframe\">\n",
       "  <thead>\n",
       "    <tr style=\"text-align: right;\">\n",
       "      <th></th>\n",
       "      <th>Year</th>\n",
       "      <th>State.Code</th>\n",
       "      <th>State.Name</th>\n",
       "      <th>Total.Math</th>\n",
       "      <th>Total.Test-takers</th>\n",
       "      <th>Total.Verbal</th>\n",
       "      <th>Academic Subjects.Arts/Music.Average GPA</th>\n",
       "      <th>Academic Subjects.Arts/Music.Average Years</th>\n",
       "      <th>Academic Subjects.English.Average GPA</th>\n",
       "      <th>Academic Subjects.English.Average Years</th>\n",
       "      <th>...</th>\n",
       "      <th>Score Ranges.Between 600 to 700.Math.Total</th>\n",
       "      <th>Score Ranges.Between 600 to 700.Verbal.Females</th>\n",
       "      <th>Score Ranges.Between 600 to 700.Verbal.Males</th>\n",
       "      <th>Score Ranges.Between 600 to 700.Verbal.Total</th>\n",
       "      <th>Score Ranges.Between 700 to 800.Math.Females</th>\n",
       "      <th>Score Ranges.Between 700 to 800.Math.Males</th>\n",
       "      <th>Score Ranges.Between 700 to 800.Math.Total</th>\n",
       "      <th>Score Ranges.Between 700 to 800.Verbal.Females</th>\n",
       "      <th>Score Ranges.Between 700 to 800.Verbal.Males</th>\n",
       "      <th>Score Ranges.Between 700 to 800.Verbal.Total</th>\n",
       "    </tr>\n",
       "  </thead>\n",
       "  <tbody>\n",
       "    <tr>\n",
       "      <th>0</th>\n",
       "      <td>2005</td>\n",
       "      <td>AL</td>\n",
       "      <td>Alabama</td>\n",
       "      <td>559</td>\n",
       "      <td>3985</td>\n",
       "      <td>567</td>\n",
       "      <td>3.92</td>\n",
       "      <td>2.2</td>\n",
       "      <td>3.53</td>\n",
       "      <td>3.9</td>\n",
       "      <td>...</td>\n",
       "      <td>1096</td>\n",
       "      <td>596</td>\n",
       "      <td>613</td>\n",
       "      <td>1209</td>\n",
       "      <td>156</td>\n",
       "      <td>292</td>\n",
       "      <td>448</td>\n",
       "      <td>219</td>\n",
       "      <td>250</td>\n",
       "      <td>469</td>\n",
       "    </tr>\n",
       "    <tr>\n",
       "      <th>1</th>\n",
       "      <td>2005</td>\n",
       "      <td>AK</td>\n",
       "      <td>Alaska</td>\n",
       "      <td>519</td>\n",
       "      <td>3996</td>\n",
       "      <td>523</td>\n",
       "      <td>3.76</td>\n",
       "      <td>1.9</td>\n",
       "      <td>3.35</td>\n",
       "      <td>3.9</td>\n",
       "      <td>...</td>\n",
       "      <td>787</td>\n",
       "      <td>423</td>\n",
       "      <td>375</td>\n",
       "      <td>798</td>\n",
       "      <td>47</td>\n",
       "      <td>116</td>\n",
       "      <td>163</td>\n",
       "      <td>109</td>\n",
       "      <td>115</td>\n",
       "      <td>224</td>\n",
       "    </tr>\n",
       "    <tr>\n",
       "      <th>2</th>\n",
       "      <td>2005</td>\n",
       "      <td>AZ</td>\n",
       "      <td>Arizona</td>\n",
       "      <td>530</td>\n",
       "      <td>18184</td>\n",
       "      <td>526</td>\n",
       "      <td>3.85</td>\n",
       "      <td>2.1</td>\n",
       "      <td>3.45</td>\n",
       "      <td>3.9</td>\n",
       "      <td>...</td>\n",
       "      <td>3814</td>\n",
       "      <td>1831</td>\n",
       "      <td>1679</td>\n",
       "      <td>3510</td>\n",
       "      <td>327</td>\n",
       "      <td>630</td>\n",
       "      <td>957</td>\n",
       "      <td>412</td>\n",
       "      <td>501</td>\n",
       "      <td>913</td>\n",
       "    </tr>\n",
       "    <tr>\n",
       "      <th>3</th>\n",
       "      <td>2005</td>\n",
       "      <td>AR</td>\n",
       "      <td>Arkansas</td>\n",
       "      <td>552</td>\n",
       "      <td>1600</td>\n",
       "      <td>563</td>\n",
       "      <td>3.90</td>\n",
       "      <td>2.2</td>\n",
       "      <td>3.61</td>\n",
       "      <td>4.0</td>\n",
       "      <td>...</td>\n",
       "      <td>443</td>\n",
       "      <td>242</td>\n",
       "      <td>226</td>\n",
       "      <td>468</td>\n",
       "      <td>49</td>\n",
       "      <td>83</td>\n",
       "      <td>132</td>\n",
       "      <td>77</td>\n",
       "      <td>93</td>\n",
       "      <td>170</td>\n",
       "    </tr>\n",
       "    <tr>\n",
       "      <th>4</th>\n",
       "      <td>2005</td>\n",
       "      <td>CA</td>\n",
       "      <td>California</td>\n",
       "      <td>522</td>\n",
       "      <td>186552</td>\n",
       "      <td>504</td>\n",
       "      <td>3.76</td>\n",
       "      <td>1.8</td>\n",
       "      <td>3.32</td>\n",
       "      <td>3.8</td>\n",
       "      <td>...</td>\n",
       "      <td>37605</td>\n",
       "      <td>16078</td>\n",
       "      <td>14966</td>\n",
       "      <td>31044</td>\n",
       "      <td>5451</td>\n",
       "      <td>8792</td>\n",
       "      <td>14243</td>\n",
       "      <td>5011</td>\n",
       "      <td>4766</td>\n",
       "      <td>9777</td>\n",
       "    </tr>\n",
       "  </tbody>\n",
       "</table>\n",
       "<p>5 rows × 99 columns</p>\n",
       "</div>"
      ],
      "text/plain": [
       "   Year State.Code  State.Name  Total.Math  Total.Test-takers  Total.Verbal  \\\n",
       "0  2005         AL     Alabama         559               3985           567   \n",
       "1  2005         AK      Alaska         519               3996           523   \n",
       "2  2005         AZ     Arizona         530              18184           526   \n",
       "3  2005         AR    Arkansas         552               1600           563   \n",
       "4  2005         CA  California         522             186552           504   \n",
       "\n",
       "   Academic Subjects.Arts/Music.Average GPA  \\\n",
       "0                                      3.92   \n",
       "1                                      3.76   \n",
       "2                                      3.85   \n",
       "3                                      3.90   \n",
       "4                                      3.76   \n",
       "\n",
       "   Academic Subjects.Arts/Music.Average Years  \\\n",
       "0                                         2.2   \n",
       "1                                         1.9   \n",
       "2                                         2.1   \n",
       "3                                         2.2   \n",
       "4                                         1.8   \n",
       "\n",
       "   Academic Subjects.English.Average GPA  \\\n",
       "0                                   3.53   \n",
       "1                                   3.35   \n",
       "2                                   3.45   \n",
       "3                                   3.61   \n",
       "4                                   3.32   \n",
       "\n",
       "   Academic Subjects.English.Average Years  ...  \\\n",
       "0                                      3.9  ...   \n",
       "1                                      3.9  ...   \n",
       "2                                      3.9  ...   \n",
       "3                                      4.0  ...   \n",
       "4                                      3.8  ...   \n",
       "\n",
       "   Score Ranges.Between 600 to 700.Math.Total  \\\n",
       "0                                        1096   \n",
       "1                                         787   \n",
       "2                                        3814   \n",
       "3                                         443   \n",
       "4                                       37605   \n",
       "\n",
       "   Score Ranges.Between 600 to 700.Verbal.Females  \\\n",
       "0                                             596   \n",
       "1                                             423   \n",
       "2                                            1831   \n",
       "3                                             242   \n",
       "4                                           16078   \n",
       "\n",
       "   Score Ranges.Between 600 to 700.Verbal.Males  \\\n",
       "0                                           613   \n",
       "1                                           375   \n",
       "2                                          1679   \n",
       "3                                           226   \n",
       "4                                         14966   \n",
       "\n",
       "   Score Ranges.Between 600 to 700.Verbal.Total  \\\n",
       "0                                          1209   \n",
       "1                                           798   \n",
       "2                                          3510   \n",
       "3                                           468   \n",
       "4                                         31044   \n",
       "\n",
       "   Score Ranges.Between 700 to 800.Math.Females  \\\n",
       "0                                           156   \n",
       "1                                            47   \n",
       "2                                           327   \n",
       "3                                            49   \n",
       "4                                          5451   \n",
       "\n",
       "   Score Ranges.Between 700 to 800.Math.Males  \\\n",
       "0                                         292   \n",
       "1                                         116   \n",
       "2                                         630   \n",
       "3                                          83   \n",
       "4                                        8792   \n",
       "\n",
       "   Score Ranges.Between 700 to 800.Math.Total  \\\n",
       "0                                         448   \n",
       "1                                         163   \n",
       "2                                         957   \n",
       "3                                         132   \n",
       "4                                       14243   \n",
       "\n",
       "   Score Ranges.Between 700 to 800.Verbal.Females  \\\n",
       "0                                             219   \n",
       "1                                             109   \n",
       "2                                             412   \n",
       "3                                              77   \n",
       "4                                            5011   \n",
       "\n",
       "   Score Ranges.Between 700 to 800.Verbal.Males  \\\n",
       "0                                           250   \n",
       "1                                           115   \n",
       "2                                           501   \n",
       "3                                            93   \n",
       "4                                          4766   \n",
       "\n",
       "   Score Ranges.Between 700 to 800.Verbal.Total  \n",
       "0                                           469  \n",
       "1                                           224  \n",
       "2                                           913  \n",
       "3                                           170  \n",
       "4                                          9777  \n",
       "\n",
       "[5 rows x 99 columns]"
      ]
     },
     "execution_count": 3,
     "metadata": {},
     "output_type": "execute_result"
    }
   ],
   "source": [
    "df.head()"
   ]
  },
  {
   "cell_type": "code",
   "execution_count": 4,
   "id": "8677a87f",
   "metadata": {},
   "outputs": [],
   "source": [
    "# Select a subset of the dataset. We don't want all the columns\n",
    "\n",
    "df = df[['Year', 'State.Code','Total.Math','Total.Verbal',\n",
    "         'Academic Subjects.Mathematics.Average GPA','Academic Subjects.English.Average GPA',\n",
    "         'Academic Subjects.Mathematics.Average Years','Academic Subjects.English.Average Years',\n",
    "         'Total.Test-takers']]"
   ]
  },
  {
   "cell_type": "code",
   "execution_count": 5,
   "id": "1701639b",
   "metadata": {},
   "outputs": [],
   "source": [
    "# shorten the names\n",
    "df.columns=['Year','State','MathSAT','VerbalSAT',\n",
    "            'MathGPA','EnglishGPA',\n",
    "            'MathYrs','EnglishYrs',\n",
    "            'TotalTested']"
   ]
  },
  {
   "cell_type": "markdown",
   "id": "f7cd83f4",
   "metadata": {},
   "source": [
    "## Run First Regression"
   ]
  },
  {
   "cell_type": "markdown",
   "id": "54ae6cc8",
   "metadata": {},
   "source": [
    "**First Regression:** At this point, let's go back up and do a regression of ``MathSAT ~ MathGPA``. We will also try ``VerbalSAT ~ EnglishGPA``"
   ]
  },
  {
   "cell_type": "code",
   "execution_count": 6,
   "id": "e92477a3",
   "metadata": {
    "collapsed": true
   },
   "outputs": [
    {
     "data": {
      "text/plain": [
       "[<matplotlib.lines.Line2D at 0x7fe34b727220>]"
      ]
     },
     "execution_count": 6,
     "metadata": {},
     "output_type": "execute_result"
    },
    {
     "data": {
      "image/png": "[encoded data removed]",
      "text/plain": [
       "<Figure size 432x288 with 1 Axes>"
      ]
     },
     "metadata": {
      "needs_background": "light"
     },
     "output_type": "display_data"
    }
   ],
   "source": [
    "plt.plot(df.MathGPA, df.MathSAT, '+')"
   ]
  },
  {
   "cell_type": "markdown",
   "id": "6f2abb16",
   "metadata": {},
   "source": [
    "## Run Second Regression"
   ]
  },
  {
   "cell_type": "markdown",
   "id": "3934430d",
   "metadata": {},
   "source": [
    "**Second Regression:** We will create some new columns and run a second regression. This time our target variable will be ``TotalSAT ~ AvgGPA + TotalYrs``. But to run it we need to create some new columns. "
   ]
  },
  {
   "cell_type": "code",
   "execution_count": 15,
   "id": "ca42ae27",
   "metadata": {},
   "outputs": [],
   "source": [
    "df = df.assign(TotalSAT = lambda x: x['MathSAT'] + x['VerbalSAT'])\n",
    "df = df.assign(TotalYrs = lambda x: x['MathYrs'] + x['EnglishYrs'])\n",
    "df = df.assign(AvgGPA = lambda x: (x['MathGPA'] + x['EnglishGPA'])/2)"
   ]
  },
  {
   "cell_type": "code",
   "execution_count": 16,
   "id": "a4d53f35",
   "metadata": {},
   "outputs": [
    {
     "data": {
      "text/html": [
       "<div>\n",
       "<style scoped>\n",
       "    .dataframe tbody tr th:only-of-type {\n",
       "        vertical-align: middle;\n",
       "    }\n",
       "\n",
       "    .dataframe tbody tr th {\n",
       "        vertical-align: top;\n",
       "    }\n",
       "\n",
       "    .dataframe thead th {\n",
       "        text-align: right;\n",
       "    }\n",
       "</style>\n",
       "<table border=\"1\" class=\"dataframe\">\n",
       "  <thead>\n",
       "    <tr style=\"text-align: right;\">\n",
       "      <th></th>\n",
       "      <th>Year</th>\n",
       "      <th>State</th>\n",
       "      <th>MathSAT</th>\n",
       "      <th>VerbalSAT</th>\n",
       "      <th>MathGPA</th>\n",
       "      <th>EnglishGPA</th>\n",
       "      <th>MathYrs</th>\n",
       "      <th>EnglishYrs</th>\n",
       "      <th>TotalTested</th>\n",
       "      <th>TotalSAT</th>\n",
       "      <th>TotalYrs</th>\n",
       "      <th>AvgGPA</th>\n",
       "    </tr>\n",
       "  </thead>\n",
       "  <tbody>\n",
       "    <tr>\n",
       "      <th>0</th>\n",
       "      <td>2005</td>\n",
       "      <td>AL</td>\n",
       "      <td>559</td>\n",
       "      <td>567</td>\n",
       "      <td>3.41</td>\n",
       "      <td>3.53</td>\n",
       "      <td>4.0</td>\n",
       "      <td>3.9</td>\n",
       "      <td>3985</td>\n",
       "      <td>1126</td>\n",
       "      <td>7.9</td>\n",
       "      <td>3.470</td>\n",
       "    </tr>\n",
       "    <tr>\n",
       "      <th>1</th>\n",
       "      <td>2005</td>\n",
       "      <td>AK</td>\n",
       "      <td>519</td>\n",
       "      <td>523</td>\n",
       "      <td>3.06</td>\n",
       "      <td>3.35</td>\n",
       "      <td>3.5</td>\n",
       "      <td>3.9</td>\n",
       "      <td>3996</td>\n",
       "      <td>1042</td>\n",
       "      <td>7.4</td>\n",
       "      <td>3.205</td>\n",
       "    </tr>\n",
       "    <tr>\n",
       "      <th>2</th>\n",
       "      <td>2005</td>\n",
       "      <td>AZ</td>\n",
       "      <td>530</td>\n",
       "      <td>526</td>\n",
       "      <td>3.25</td>\n",
       "      <td>3.45</td>\n",
       "      <td>3.9</td>\n",
       "      <td>3.9</td>\n",
       "      <td>18184</td>\n",
       "      <td>1056</td>\n",
       "      <td>7.8</td>\n",
       "      <td>3.350</td>\n",
       "    </tr>\n",
       "    <tr>\n",
       "      <th>3</th>\n",
       "      <td>2005</td>\n",
       "      <td>AR</td>\n",
       "      <td>552</td>\n",
       "      <td>563</td>\n",
       "      <td>3.46</td>\n",
       "      <td>3.61</td>\n",
       "      <td>4.1</td>\n",
       "      <td>4.0</td>\n",
       "      <td>1600</td>\n",
       "      <td>1115</td>\n",
       "      <td>8.1</td>\n",
       "      <td>3.535</td>\n",
       "    </tr>\n",
       "    <tr>\n",
       "      <th>4</th>\n",
       "      <td>2005</td>\n",
       "      <td>CA</td>\n",
       "      <td>522</td>\n",
       "      <td>504</td>\n",
       "      <td>3.05</td>\n",
       "      <td>3.32</td>\n",
       "      <td>3.7</td>\n",
       "      <td>3.8</td>\n",
       "      <td>186552</td>\n",
       "      <td>1026</td>\n",
       "      <td>7.5</td>\n",
       "      <td>3.185</td>\n",
       "    </tr>\n",
       "  </tbody>\n",
       "</table>\n",
       "</div>"
      ],
      "text/plain": [
       "   Year State  MathSAT  VerbalSAT  MathGPA  EnglishGPA  MathYrs  EnglishYrs  \\\n",
       "0  2005    AL      559        567     3.41        3.53      4.0         3.9   \n",
       "1  2005    AK      519        523     3.06        3.35      3.5         3.9   \n",
       "2  2005    AZ      530        526     3.25        3.45      3.9         3.9   \n",
       "3  2005    AR      552        563     3.46        3.61      4.1         4.0   \n",
       "4  2005    CA      522        504     3.05        3.32      3.7         3.8   \n",
       "\n",
       "   TotalTested  TotalSAT  TotalYrs  AvgGPA  \n",
       "0         3985      1126       7.9   3.470  \n",
       "1         3996      1042       7.4   3.205  \n",
       "2        18184      1056       7.8   3.350  \n",
       "3         1600      1115       8.1   3.535  \n",
       "4       186552      1026       7.5   3.185  "
      ]
     },
     "execution_count": 16,
     "metadata": {},
     "output_type": "execute_result"
    }
   ],
   "source": [
    "df.head()"
   ]
  },
  {
   "cell_type": "markdown",
   "id": "205a1bed",
   "metadata": {},
   "source": [
    "## Run Third Regression"
   ]
  },
  {
   "cell_type": "markdown",
   "id": "fc99334f",
   "metadata": {},
   "source": [
    "**Third Regression:** For the third regression we will create a new category /column called region. Then we will run a regression for ``TotalSAT ~ AvgGPA + TotalYrs + C(Region``"
   ]
  },
  {
   "cell_type": "code",
   "execution_count": 21,
   "id": "f687409c",
   "metadata": {},
   "outputs": [],
   "source": [
    "southeast = [\"WV\",\"VA\",\"KY\",\"TN\",\"NC\",\"SC\",\"GA\",\"AL\",\"MI\",\"AR\",\"LA\",\"FL\",\"MS\"]\n",
    "southwest  = [\"TX\",\"OK\",\"NM\",\"AZ\"]\n",
    "west =[\"CO\",\"WY\",\"MT\",\"ID\",\"WA\",\"OR\",\"UT\",\"NV\",\"CA\",\"AK\",\"HI\"]\n",
    "northeast =[\"MA\",\"NJ\",\"NY\",\"CT\",\"RI\",\"ME\",\"VT\",\"NH\",\"PA\",\"DE\",\"MD\"]\n",
    "midwest = [\"OH\",\"IN\",\"MI\",\"MN\",\"IL\",\"MO\",\"WI\",\"IA\",\"KS\",\"NE\",\"SD\",\"ND\"]\n",
    "\n",
    "\n",
    "def create_region(state):\n",
    "    if state in southeast:\n",
    "        region = \"south\"\n",
    "    elif state in northeast:\n",
    "        region = \"northeast\"\n",
    "    elif state in west:\n",
    "        region = \"west\"\n",
    "    elif state in southwest:\n",
    "        region = \"southwest\"\n",
    "    elif state in midwest:\n",
    "        region = \"midwest\"\n",
    "    else:\n",
    "        region = \"other\"\n",
    "    return region\n",
    "    "
   ]
  },
  {
   "cell_type": "code",
   "execution_count": 22,
   "id": "174dbc4e",
   "metadata": {},
   "outputs": [],
   "source": [
    "df['Region'] = df['State'].apply(create_region)"
   ]
  }
 ],
 "metadata": {
  "kernelspec": {
   "display_name": "Python 3",
   "language": "python",
   "name": "python3"
  },
  "language_info": {
   "codemirror_mode": {
    "name": "ipython",
    "version": 3
   },
   "file_extension": ".py",
   "mimetype": "text/x-python",
   "name": "python",
   "nbconvert_exporter": "python",
   "pygments_lexer": "ipython3",
   "version": "3.8.8"
  }
 },
 "nbformat": 4,
 "nbformat_minor": 5
}

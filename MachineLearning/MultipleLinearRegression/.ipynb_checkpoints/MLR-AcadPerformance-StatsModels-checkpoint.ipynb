{
 "cells": [
  {
   "cell_type": "markdown",
   "metadata": {},
   "source": [
    "# Multiple Linear Regression"
   ]
  },
  {
   "cell_type": "markdown",
   "metadata": {},
   "source": [
    "## Load Libraries"
   ]
  },
  {
   "cell_type": "code",
   "execution_count": 1,
   "metadata": {},
   "outputs": [],
   "source": [
    "# import libraries\n",
    "import pandas as pd\n",
    "import numpy as np\n",
    "import matplotlib.pyplot as plt\n",
    "\n",
    "from sklearn.linear_model import LinearRegression\n",
    "from sklearn.model_selection import train_test_split, cross_val_score\n",
    "from sklearn.metrics import mean_squared_error, r2_score\n",
    "from sklearn.preprocessing import MinMaxScaler, StandardScaler\n",
    "\n",
    "from scipy import stats\n",
    "import seaborn as sns\n",
    " \n",
    "pd.options.display.float_format = '{:,.1f}'.format\n",
    "\n",
    "\n",
    "from statsmodels.formula.api import ols"
   ]
  },
  {
   "cell_type": "markdown",
   "metadata": {},
   "source": [
    "## Load and Verify Data"
   ]
  },
  {
   "cell_type": "code",
   "execution_count": 2,
   "metadata": {},
   "outputs": [],
   "source": [
    "df = pd.read_csv(\"data/academicperformance.csv\")"
   ]
  },
  {
   "cell_type": "code",
   "execution_count": 3,
   "metadata": {},
   "outputs": [
    {
     "data": {
      "text/html": [
       "<div>\n",
       "<style scoped>\n",
       "    .dataframe tbody tr th:only-of-type {\n",
       "        vertical-align: middle;\n",
       "    }\n",
       "\n",
       "    .dataframe tbody tr th {\n",
       "        vertical-align: top;\n",
       "    }\n",
       "\n",
       "    .dataframe thead th {\n",
       "        text-align: right;\n",
       "    }\n",
       "</style>\n",
       "<table border=\"1\" class=\"dataframe\">\n",
       "  <thead>\n",
       "    <tr style=\"text-align: right;\">\n",
       "      <th></th>\n",
       "      <th>GPA</th>\n",
       "      <th>FamilyIncome</th>\n",
       "      <th>Sleep</th>\n",
       "      <th>District</th>\n",
       "      <th>StudyTime</th>\n",
       "      <th>Grade</th>\n",
       "    </tr>\n",
       "  </thead>\n",
       "  <tbody>\n",
       "    <tr>\n",
       "      <th>0</th>\n",
       "      <td>2.9</td>\n",
       "      <td>82461</td>\n",
       "      <td>6.5</td>\n",
       "      <td>4</td>\n",
       "      <td>47</td>\n",
       "      <td>77</td>\n",
       "    </tr>\n",
       "    <tr>\n",
       "      <th>1</th>\n",
       "      <td>3.7</td>\n",
       "      <td>61113</td>\n",
       "      <td>6.2</td>\n",
       "      <td>6</td>\n",
       "      <td>47</td>\n",
       "      <td>94</td>\n",
       "    </tr>\n",
       "    <tr>\n",
       "      <th>2</th>\n",
       "      <td>2.8</td>\n",
       "      <td>63632</td>\n",
       "      <td>6.2</td>\n",
       "      <td>5</td>\n",
       "      <td>39</td>\n",
       "      <td>69</td>\n",
       "    </tr>\n",
       "    <tr>\n",
       "      <th>3</th>\n",
       "      <td>2.0</td>\n",
       "      <td>66854</td>\n",
       "      <td>7.2</td>\n",
       "      <td>5</td>\n",
       "      <td>49</td>\n",
       "      <td>81</td>\n",
       "    </tr>\n",
       "    <tr>\n",
       "      <th>4</th>\n",
       "      <td>2.8</td>\n",
       "      <td>82721</td>\n",
       "      <td>5.5</td>\n",
       "      <td>5</td>\n",
       "      <td>49</td>\n",
       "      <td>78</td>\n",
       "    </tr>\n",
       "  </tbody>\n",
       "</table>\n",
       "</div>"
      ],
      "text/plain": [
       "   GPA  FamilyIncome  Sleep  District  StudyTime  Grade\n",
       "0  2.9         82461    6.5         4         47     77\n",
       "1  3.7         61113    6.2         6         47     94\n",
       "2  2.8         63632    6.2         5         39     69\n",
       "3  2.0         66854    7.2         5         49     81\n",
       "4  2.8         82721    5.5         5         49     78"
      ]
     },
     "execution_count": 3,
     "metadata": {},
     "output_type": "execute_result"
    }
   ],
   "source": [
    "df.head()"
   ]
  },
  {
   "cell_type": "code",
   "execution_count": 4,
   "metadata": {},
   "outputs": [
    {
     "data": {
      "text/html": [
       "<div>\n",
       "<style scoped>\n",
       "    .dataframe tbody tr th:only-of-type {\n",
       "        vertical-align: middle;\n",
       "    }\n",
       "\n",
       "    .dataframe tbody tr th {\n",
       "        vertical-align: top;\n",
       "    }\n",
       "\n",
       "    .dataframe thead th {\n",
       "        text-align: right;\n",
       "    }\n",
       "</style>\n",
       "<table border=\"1\" class=\"dataframe\">\n",
       "  <thead>\n",
       "    <tr style=\"text-align: right;\">\n",
       "      <th></th>\n",
       "      <th>GPA</th>\n",
       "      <th>FamilyIncome</th>\n",
       "      <th>Sleep</th>\n",
       "      <th>District</th>\n",
       "      <th>StudyTime</th>\n",
       "      <th>Grade</th>\n",
       "    </tr>\n",
       "  </thead>\n",
       "  <tbody>\n",
       "    <tr>\n",
       "      <th>count</th>\n",
       "      <td>2,077.0</td>\n",
       "      <td>2,077.0</td>\n",
       "      <td>2,077.0</td>\n",
       "      <td>2,077.0</td>\n",
       "      <td>2,077.0</td>\n",
       "      <td>2,077.0</td>\n",
       "    </tr>\n",
       "    <tr>\n",
       "      <th>mean</th>\n",
       "      <td>2.7</td>\n",
       "      <td>75,282.6</td>\n",
       "      <td>6.0</td>\n",
       "      <td>5.0</td>\n",
       "      <td>39.1</td>\n",
       "      <td>69.2</td>\n",
       "    </tr>\n",
       "    <tr>\n",
       "      <th>std</th>\n",
       "      <td>0.8</td>\n",
       "      <td>15,264.4</td>\n",
       "      <td>1.0</td>\n",
       "      <td>1.0</td>\n",
       "      <td>9.4</td>\n",
       "      <td>14.5</td>\n",
       "    </tr>\n",
       "    <tr>\n",
       "      <th>min</th>\n",
       "      <td>0.2</td>\n",
       "      <td>27,952.0</td>\n",
       "      <td>2.5</td>\n",
       "      <td>1.0</td>\n",
       "      <td>7.0</td>\n",
       "      <td>19.0</td>\n",
       "    </tr>\n",
       "    <tr>\n",
       "      <th>25%</th>\n",
       "      <td>2.2</td>\n",
       "      <td>65,073.0</td>\n",
       "      <td>5.3</td>\n",
       "      <td>4.0</td>\n",
       "      <td>32.0</td>\n",
       "      <td>60.0</td>\n",
       "    </tr>\n",
       "    <tr>\n",
       "      <th>50%</th>\n",
       "      <td>2.8</td>\n",
       "      <td>75,040.0</td>\n",
       "      <td>6.0</td>\n",
       "      <td>5.0</td>\n",
       "      <td>39.0</td>\n",
       "      <td>70.0</td>\n",
       "    </tr>\n",
       "    <tr>\n",
       "      <th>75%</th>\n",
       "      <td>3.3</td>\n",
       "      <td>85,492.0</td>\n",
       "      <td>6.7</td>\n",
       "      <td>6.0</td>\n",
       "      <td>46.0</td>\n",
       "      <td>79.0</td>\n",
       "    </tr>\n",
       "    <tr>\n",
       "      <th>max</th>\n",
       "      <td>4.0</td>\n",
       "      <td>128,655.0</td>\n",
       "      <td>10.1</td>\n",
       "      <td>8.0</td>\n",
       "      <td>70.0</td>\n",
       "      <td>100.0</td>\n",
       "    </tr>\n",
       "  </tbody>\n",
       "</table>\n",
       "</div>"
      ],
      "text/plain": [
       "          GPA  FamilyIncome   Sleep  District  StudyTime   Grade\n",
       "count 2,077.0       2,077.0 2,077.0   2,077.0    2,077.0 2,077.0\n",
       "mean      2.7      75,282.6     6.0       5.0       39.1    69.2\n",
       "std       0.8      15,264.4     1.0       1.0        9.4    14.5\n",
       "min       0.2      27,952.0     2.5       1.0        7.0    19.0\n",
       "25%       2.2      65,073.0     5.3       4.0       32.0    60.0\n",
       "50%       2.8      75,040.0     6.0       5.0       39.0    70.0\n",
       "75%       3.3      85,492.0     6.7       6.0       46.0    79.0\n",
       "max       4.0     128,655.0    10.1       8.0       70.0   100.0"
      ]
     },
     "execution_count": 4,
     "metadata": {},
     "output_type": "execute_result"
    }
   ],
   "source": [
    "df.describe()"
   ]
  },
  {
   "cell_type": "markdown",
   "metadata": {},
   "source": [
    "## Linear Regression without Categorical Variable"
   ]
  },
  {
   "cell_type": "markdown",
   "metadata": {},
   "source": [
    "Note: ``Grade`` is the target variable. ``GPA``, ``Sleep`` , and ``StudyTime`` are the feature variables"
   ]
  },
  {
   "cell_type": "code",
   "execution_count": 5,
   "metadata": {},
   "outputs": [],
   "source": [
    "mlr = ols('Grade ~ GPA + Sleep + StudyTime', df).fit()"
   ]
  },
  {
   "cell_type": "code",
   "execution_count": 6,
   "metadata": {},
   "outputs": [
    {
     "data": {
      "text/plain": [
       "Intercept   -39.7\n",
       "GPA           9.1\n",
       "Sleep         7.2\n",
       "StudyTime     1.1\n",
       "dtype: float64"
      ]
     },
     "execution_count": 6,
     "metadata": {},
     "output_type": "execute_result"
    }
   ],
   "source": [
    "mlr.params"
   ]
  },
  {
   "cell_type": "code",
   "execution_count": 7,
   "metadata": {},
   "outputs": [
    {
     "data": {
      "text/plain": [
       "Text(0.5, 0, 'StudyTime')"
      ]
     },
     "execution_count": 7,
     "metadata": {},
     "output_type": "execute_result"
    },
    {
     "data": {
      "image/png": "[encoded data removed]",
      "text/plain": [
       "<Figure size 1080x360 with 3 Axes>"
      ]
     },
     "metadata": {
      "needs_background": "light"
     },
     "output_type": "display_data"
    }
   ],
   "source": [
    "fig, (ax1,ax2,ax3) = plt.subplots(1,3,figsize=(15,5),sharey=True)\n",
    "\n",
    "fig.suptitle(\"GPA, Sleep, StudyTime vs Grade\", fontsize=18)\n",
    "ax1.set_ylabel(\"Grade\")\n",
    "ax1.plot(df.GPA, df.Grade, '+','b')\n",
    "ax1.set_xlabel(\"GPA\")\n",
    "ax2.plot(df.Sleep, df.Grade, '+')\n",
    "ax2.set_xlabel(\"Sleep\")\n",
    "ax3.plot(df.StudyTime,df.Grade,'+',c='g')\n",
    "ax3.set_xlabel(\"StudyTime\")\n"
   ]
  },
  {
   "cell_type": "code",
   "execution_count": 8,
   "metadata": {},
   "outputs": [
    {
     "data": {
      "text/html": [
       "<table class=\"simpletable\">\n",
       "<caption>OLS Regression Results</caption>\n",
       "<tr>\n",
       "  <th>Dep. Variable:</th>          <td>Grade</td>      <th>  R-squared:         </th> <td>   0.891</td> \n",
       "</tr>\n",
       "<tr>\n",
       "  <th>Model:</th>                   <td>OLS</td>       <th>  Adj. R-squared:    </th> <td>   0.891</td> \n",
       "</tr>\n",
       "<tr>\n",
       "  <th>Method:</th>             <td>Least Squares</td>  <th>  F-statistic:       </th> <td>   5653.</td> \n",
       "</tr>\n",
       "<tr>\n",
       "  <th>Date:</th>             <td>Fri, 25 Jun 2021</td> <th>  Prob (F-statistic):</th>  <td>  0.00</td>  \n",
       "</tr>\n",
       "<tr>\n",
       "  <th>Time:</th>                 <td>11:08:55</td>     <th>  Log-Likelihood:    </th> <td> -6191.4</td> \n",
       "</tr>\n",
       "<tr>\n",
       "  <th>No. Observations:</th>      <td>  2077</td>      <th>  AIC:               </th> <td>1.239e+04</td>\n",
       "</tr>\n",
       "<tr>\n",
       "  <th>Df Residuals:</th>          <td>  2073</td>      <th>  BIC:               </th> <td>1.241e+04</td>\n",
       "</tr>\n",
       "<tr>\n",
       "  <th>Df Model:</th>              <td>     3</td>      <th>                     </th>     <td> </td>    \n",
       "</tr>\n",
       "<tr>\n",
       "  <th>Covariance Type:</th>      <td>nonrobust</td>    <th>                     </th>     <td> </td>    \n",
       "</tr>\n",
       "</table>\n",
       "<table class=\"simpletable\">\n",
       "<tr>\n",
       "      <td></td>         <th>coef</th>     <th>std err</th>      <th>t</th>      <th>P>|t|</th>  <th>[0.025</th>    <th>0.975]</th>  \n",
       "</tr>\n",
       "<tr>\n",
       "  <th>Intercept</th> <td>  -39.7098</td> <td>    0.879</td> <td>  -45.179</td> <td> 0.000</td> <td>  -41.434</td> <td>  -37.986</td>\n",
       "</tr>\n",
       "<tr>\n",
       "  <th>GPA</th>       <td>    9.0992</td> <td>    0.136</td> <td>   67.065</td> <td> 0.000</td> <td>    8.833</td> <td>    9.365</td>\n",
       "</tr>\n",
       "<tr>\n",
       "  <th>Sleep</th>     <td>    7.2070</td> <td>    0.104</td> <td>   69.500</td> <td> 0.000</td> <td>    7.004</td> <td>    7.410</td>\n",
       "</tr>\n",
       "<tr>\n",
       "  <th>StudyTime</th> <td>    1.0580</td> <td>    0.011</td> <td>   95.102</td> <td> 0.000</td> <td>    1.036</td> <td>    1.080</td>\n",
       "</tr>\n",
       "</table>\n",
       "<table class=\"simpletable\">\n",
       "<tr>\n",
       "  <th>Omnibus:</th>       <td> 1.358</td> <th>  Durbin-Watson:     </th> <td>   1.941</td>\n",
       "</tr>\n",
       "<tr>\n",
       "  <th>Prob(Omnibus):</th> <td> 0.507</td> <th>  Jarque-Bera (JB):  </th> <td>   1.305</td>\n",
       "</tr>\n",
       "<tr>\n",
       "  <th>Skew:</th>          <td>-0.014</td> <th>  Prob(JB):          </th> <td>   0.521</td>\n",
       "</tr>\n",
       "<tr>\n",
       "  <th>Kurtosis:</th>      <td> 3.120</td> <th>  Cond. No.          </th> <td>    344.</td>\n",
       "</tr>\n",
       "</table><br/><br/>Notes:<br/>[1] Standard Errors assume that the covariance matrix of the errors is correctly specified."
      ],
      "text/plain": [
       "<class 'statsmodels.iolib.summary.Summary'>\n",
       "\"\"\"\n",
       "                            OLS Regression Results                            \n",
       "==============================================================================\n",
       "Dep. Variable:                  Grade   R-squared:                       0.891\n",
       "Model:                            OLS   Adj. R-squared:                  0.891\n",
       "Method:                 Least Squares   F-statistic:                     5653.\n",
       "Date:                Fri, 25 Jun 2021   Prob (F-statistic):               0.00\n",
       "Time:                        11:08:55   Log-Likelihood:                -6191.4\n",
       "No. Observations:                2077   AIC:                         1.239e+04\n",
       "Df Residuals:                    2073   BIC:                         1.241e+04\n",
       "Df Model:                           3                                         \n",
       "Covariance Type:            nonrobust                                         \n",
       "==============================================================================\n",
       "                 coef    std err          t      P>|t|      [0.025      0.975]\n",
       "------------------------------------------------------------------------------\n",
       "Intercept    -39.7098      0.879    -45.179      0.000     -41.434     -37.986\n",
       "GPA            9.0992      0.136     67.065      0.000       8.833       9.365\n",
       "Sleep          7.2070      0.104     69.500      0.000       7.004       7.410\n",
       "StudyTime      1.0580      0.011     95.102      0.000       1.036       1.080\n",
       "==============================================================================\n",
       "Omnibus:                        1.358   Durbin-Watson:                   1.941\n",
       "Prob(Omnibus):                  0.507   Jarque-Bera (JB):                1.305\n",
       "Skew:                          -0.014   Prob(JB):                        0.521\n",
       "Kurtosis:                       3.120   Cond. No.                         344.\n",
       "==============================================================================\n",
       "\n",
       "Notes:\n",
       "[1] Standard Errors assume that the covariance matrix of the errors is correctly specified.\n",
       "\"\"\""
      ]
     },
     "execution_count": 8,
     "metadata": {},
     "output_type": "execute_result"
    }
   ],
   "source": [
    "mlr.summary()"
   ]
  },
  {
   "cell_type": "markdown",
   "metadata": {},
   "source": [
    "## Linear Regression with Category"
   ]
  },
  {
   "cell_type": "code",
   "execution_count": 9,
   "metadata": {},
   "outputs": [],
   "source": [
    "mlr = ols('Grade ~ GPA + Sleep + StudyTime +C(District)', df).fit()"
   ]
  },
  {
   "cell_type": "code",
   "execution_count": 10,
   "metadata": {},
   "outputs": [
    {
     "data": {
      "text/html": [
       "<table class=\"simpletable\">\n",
       "<caption>OLS Regression Results</caption>\n",
       "<tr>\n",
       "  <th>Dep. Variable:</th>          <td>Grade</td>      <th>  R-squared:         </th> <td>   0.987</td> \n",
       "</tr>\n",
       "<tr>\n",
       "  <th>Model:</th>                   <td>OLS</td>       <th>  Adj. R-squared:    </th> <td>   0.987</td> \n",
       "</tr>\n",
       "<tr>\n",
       "  <th>Method:</th>             <td>Least Squares</td>  <th>  F-statistic:       </th> <td>1.581e+04</td>\n",
       "</tr>\n",
       "<tr>\n",
       "  <th>Date:</th>             <td>Fri, 25 Jun 2021</td> <th>  Prob (F-statistic):</th>  <td>  0.00</td>  \n",
       "</tr>\n",
       "<tr>\n",
       "  <th>Time:</th>                 <td>11:08:56</td>     <th>  Log-Likelihood:    </th> <td> -3975.8</td> \n",
       "</tr>\n",
       "<tr>\n",
       "  <th>No. Observations:</th>      <td>  2077</td>      <th>  AIC:               </th> <td>   7974.</td> \n",
       "</tr>\n",
       "<tr>\n",
       "  <th>Df Residuals:</th>          <td>  2066</td>      <th>  BIC:               </th> <td>   8036.</td> \n",
       "</tr>\n",
       "<tr>\n",
       "  <th>Df Model:</th>              <td>    10</td>      <th>                     </th>     <td> </td>    \n",
       "</tr>\n",
       "<tr>\n",
       "  <th>Covariance Type:</th>      <td>nonrobust</td>    <th>                     </th>     <td> </td>    \n",
       "</tr>\n",
       "</table>\n",
       "<table class=\"simpletable\">\n",
       "<tr>\n",
       "          <td></td>            <th>coef</th>     <th>std err</th>      <th>t</th>      <th>P>|t|</th>  <th>[0.025</th>    <th>0.975]</th>  \n",
       "</tr>\n",
       "<tr>\n",
       "  <th>Intercept</th>        <td>  -59.6841</td> <td>    1.677</td> <td>  -35.600</td> <td> 0.000</td> <td>  -62.972</td> <td>  -56.396</td>\n",
       "</tr>\n",
       "<tr>\n",
       "  <th>C(District)[T.2]</th> <td>    5.0053</td> <td>    1.713</td> <td>    2.921</td> <td> 0.004</td> <td>    1.645</td> <td>    8.365</td>\n",
       "</tr>\n",
       "<tr>\n",
       "  <th>C(District)[T.3]</th> <td>    9.4184</td> <td>    1.653</td> <td>    5.698</td> <td> 0.000</td> <td>    6.177</td> <td>   12.660</td>\n",
       "</tr>\n",
       "<tr>\n",
       "  <th>C(District)[T.4]</th> <td>   13.7648</td> <td>    1.648</td> <td>    8.351</td> <td> 0.000</td> <td>   10.532</td> <td>   16.997</td>\n",
       "</tr>\n",
       "<tr>\n",
       "  <th>C(District)[T.5]</th> <td>   18.1589</td> <td>    1.648</td> <td>   11.021</td> <td> 0.000</td> <td>   14.928</td> <td>   21.390</td>\n",
       "</tr>\n",
       "<tr>\n",
       "  <th>C(District)[T.6]</th> <td>   22.5245</td> <td>    1.648</td> <td>   13.664</td> <td> 0.000</td> <td>   19.292</td> <td>   25.757</td>\n",
       "</tr>\n",
       "<tr>\n",
       "  <th>C(District)[T.7]</th> <td>   26.9780</td> <td>    1.654</td> <td>   16.308</td> <td> 0.000</td> <td>   23.734</td> <td>   30.222</td>\n",
       "</tr>\n",
       "<tr>\n",
       "  <th>C(District)[T.8]</th> <td>   31.2315</td> <td>    1.705</td> <td>   18.316</td> <td> 0.000</td> <td>   27.887</td> <td>   34.575</td>\n",
       "</tr>\n",
       "<tr>\n",
       "  <th>GPA</th>              <td>    9.4349</td> <td>    0.047</td> <td>  201.086</td> <td> 0.000</td> <td>    9.343</td> <td>    9.527</td>\n",
       "</tr>\n",
       "<tr>\n",
       "  <th>Sleep</th>            <td>    7.2437</td> <td>    0.036</td> <td>  202.414</td> <td> 0.000</td> <td>    7.174</td> <td>    7.314</td>\n",
       "</tr>\n",
       "<tr>\n",
       "  <th>StudyTime</th>        <td>    1.0780</td> <td>    0.004</td> <td>  280.725</td> <td> 0.000</td> <td>    1.070</td> <td>    1.086</td>\n",
       "</tr>\n",
       "</table>\n",
       "<table class=\"simpletable\">\n",
       "<tr>\n",
       "  <th>Omnibus:</th>       <td>25.246</td> <th>  Durbin-Watson:     </th> <td>   1.949</td>\n",
       "</tr>\n",
       "<tr>\n",
       "  <th>Prob(Omnibus):</th> <td> 0.000</td> <th>  Jarque-Bera (JB):  </th> <td>  15.738</td>\n",
       "</tr>\n",
       "<tr>\n",
       "  <th>Skew:</th>          <td>-0.010</td> <th>  Prob(JB):          </th> <td>0.000382</td>\n",
       "</tr>\n",
       "<tr>\n",
       "  <th>Kurtosis:</th>      <td> 2.574</td> <th>  Cond. No.          </th> <td>5.27e+03</td>\n",
       "</tr>\n",
       "</table><br/><br/>Notes:<br/>[1] Standard Errors assume that the covariance matrix of the errors is correctly specified.<br/>[2] The condition number is large, 5.27e+03. This might indicate that there are<br/>strong multicollinearity or other numerical problems."
      ],
      "text/plain": [
       "<class 'statsmodels.iolib.summary.Summary'>\n",
       "\"\"\"\n",
       "                            OLS Regression Results                            \n",
       "==============================================================================\n",
       "Dep. Variable:                  Grade   R-squared:                       0.987\n",
       "Model:                            OLS   Adj. R-squared:                  0.987\n",
       "Method:                 Least Squares   F-statistic:                 1.581e+04\n",
       "Date:                Fri, 25 Jun 2021   Prob (F-statistic):               0.00\n",
       "Time:                        11:08:56   Log-Likelihood:                -3975.8\n",
       "No. Observations:                2077   AIC:                             7974.\n",
       "Df Residuals:                    2066   BIC:                             8036.\n",
       "Df Model:                          10                                         \n",
       "Covariance Type:            nonrobust                                         \n",
       "====================================================================================\n",
       "                       coef    std err          t      P>|t|      [0.025      0.975]\n",
       "------------------------------------------------------------------------------------\n",
       "Intercept          -59.6841      1.677    -35.600      0.000     -62.972     -56.396\n",
       "C(District)[T.2]     5.0053      1.713      2.921      0.004       1.645       8.365\n",
       "C(District)[T.3]     9.4184      1.653      5.698      0.000       6.177      12.660\n",
       "C(District)[T.4]    13.7648      1.648      8.351      0.000      10.532      16.997\n",
       "C(District)[T.5]    18.1589      1.648     11.021      0.000      14.928      21.390\n",
       "C(District)[T.6]    22.5245      1.648     13.664      0.000      19.292      25.757\n",
       "C(District)[T.7]    26.9780      1.654     16.308      0.000      23.734      30.222\n",
       "C(District)[T.8]    31.2315      1.705     18.316      0.000      27.887      34.575\n",
       "GPA                  9.4349      0.047    201.086      0.000       9.343       9.527\n",
       "Sleep                7.2437      0.036    202.414      0.000       7.174       7.314\n",
       "StudyTime            1.0780      0.004    280.725      0.000       1.070       1.086\n",
       "==============================================================================\n",
       "Omnibus:                       25.246   Durbin-Watson:                   1.949\n",
       "Prob(Omnibus):                  0.000   Jarque-Bera (JB):               15.738\n",
       "Skew:                          -0.010   Prob(JB):                     0.000382\n",
       "Kurtosis:                       2.574   Cond. No.                     5.27e+03\n",
       "==============================================================================\n",
       "\n",
       "Notes:\n",
       "[1] Standard Errors assume that the covariance matrix of the errors is correctly specified.\n",
       "[2] The condition number is large, 5.27e+03. This might indicate that there are\n",
       "strong multicollinearity or other numerical problems.\n",
       "\"\"\""
      ]
     },
     "execution_count": 10,
     "metadata": {},
     "output_type": "execute_result"
    }
   ],
   "source": [
    "mlr.summary()"
   ]
  },
  {
   "cell_type": "markdown",
   "metadata": {},
   "source": [
    "## Standardized"
   ]
  },
  {
   "cell_type": "code",
   "execution_count": 11,
   "metadata": {},
   "outputs": [],
   "source": [
    "df_s = df.drop('District',axis=1)\n",
    "scaler = StandardScaler()\n",
    "df_s=pd.DataFrame(scaler.fit_transform(df_s),columns=df_s.columns)"
   ]
  },
  {
   "cell_type": "code",
   "execution_count": 12,
   "metadata": {},
   "outputs": [
    {
     "data": {
      "text/html": [
       "<div>\n",
       "<style scoped>\n",
       "    .dataframe tbody tr th:only-of-type {\n",
       "        vertical-align: middle;\n",
       "    }\n",
       "\n",
       "    .dataframe tbody tr th {\n",
       "        vertical-align: top;\n",
       "    }\n",
       "\n",
       "    .dataframe thead th {\n",
       "        text-align: right;\n",
       "    }\n",
       "</style>\n",
       "<table border=\"1\" class=\"dataframe\">\n",
       "  <thead>\n",
       "    <tr style=\"text-align: right;\">\n",
       "      <th></th>\n",
       "      <th>GPA</th>\n",
       "      <th>FamilyIncome</th>\n",
       "      <th>Sleep</th>\n",
       "      <th>StudyTime</th>\n",
       "      <th>Grade</th>\n",
       "    </tr>\n",
       "  </thead>\n",
       "  <tbody>\n",
       "    <tr>\n",
       "      <th>0</th>\n",
       "      <td>0.3</td>\n",
       "      <td>0.5</td>\n",
       "      <td>0.5</td>\n",
       "      <td>0.8</td>\n",
       "      <td>0.5</td>\n",
       "    </tr>\n",
       "    <tr>\n",
       "      <th>1</th>\n",
       "      <td>1.3</td>\n",
       "      <td>-0.9</td>\n",
       "      <td>0.2</td>\n",
       "      <td>0.8</td>\n",
       "      <td>1.7</td>\n",
       "    </tr>\n",
       "    <tr>\n",
       "      <th>2</th>\n",
       "      <td>0.1</td>\n",
       "      <td>-0.8</td>\n",
       "      <td>0.2</td>\n",
       "      <td>-0.0</td>\n",
       "      <td>-0.0</td>\n",
       "    </tr>\n",
       "    <tr>\n",
       "      <th>3</th>\n",
       "      <td>-0.9</td>\n",
       "      <td>-0.6</td>\n",
       "      <td>1.2</td>\n",
       "      <td>1.0</td>\n",
       "      <td>0.8</td>\n",
       "    </tr>\n",
       "    <tr>\n",
       "      <th>4</th>\n",
       "      <td>0.1</td>\n",
       "      <td>0.5</td>\n",
       "      <td>-0.5</td>\n",
       "      <td>1.0</td>\n",
       "      <td>0.6</td>\n",
       "    </tr>\n",
       "  </tbody>\n",
       "</table>\n",
       "</div>"
      ],
      "text/plain": [
       "   GPA  FamilyIncome  Sleep  StudyTime  Grade\n",
       "0  0.3           0.5    0.5        0.8    0.5\n",
       "1  1.3          -0.9    0.2        0.8    1.7\n",
       "2  0.1          -0.8    0.2       -0.0   -0.0\n",
       "3 -0.9          -0.6    1.2        1.0    0.8\n",
       "4  0.1           0.5   -0.5        1.0    0.6"
      ]
     },
     "execution_count": 12,
     "metadata": {},
     "output_type": "execute_result"
    }
   ],
   "source": [
    "df_s.head()"
   ]
  },
  {
   "cell_type": "code",
   "execution_count": 13,
   "metadata": {},
   "outputs": [],
   "source": [
    "mlr = ols('Grade ~ GPA + Sleep + StudyTime', df_s).fit()"
   ]
  },
  {
   "cell_type": "code",
   "execution_count": 14,
   "metadata": {},
   "outputs": [
    {
     "data": {
      "text/html": [
       "<table class=\"simpletable\">\n",
       "<caption>OLS Regression Results</caption>\n",
       "<tr>\n",
       "  <th>Dep. Variable:</th>          <td>Grade</td>      <th>  R-squared:         </th> <td>   0.891</td>\n",
       "</tr>\n",
       "<tr>\n",
       "  <th>Model:</th>                   <td>OLS</td>       <th>  Adj. R-squared:    </th> <td>   0.891</td>\n",
       "</tr>\n",
       "<tr>\n",
       "  <th>Method:</th>             <td>Least Squares</td>  <th>  F-statistic:       </th> <td>   5653.</td>\n",
       "</tr>\n",
       "<tr>\n",
       "  <th>Date:</th>             <td>Fri, 25 Jun 2021</td> <th>  Prob (F-statistic):</th>  <td>  0.00</td> \n",
       "</tr>\n",
       "<tr>\n",
       "  <th>Time:</th>                 <td>11:08:57</td>     <th>  Log-Likelihood:    </th> <td> -644.68</td>\n",
       "</tr>\n",
       "<tr>\n",
       "  <th>No. Observations:</th>      <td>  2077</td>      <th>  AIC:               </th> <td>   1297.</td>\n",
       "</tr>\n",
       "<tr>\n",
       "  <th>Df Residuals:</th>          <td>  2073</td>      <th>  BIC:               </th> <td>   1320.</td>\n",
       "</tr>\n",
       "<tr>\n",
       "  <th>Df Model:</th>              <td>     3</td>      <th>                     </th>     <td> </td>   \n",
       "</tr>\n",
       "<tr>\n",
       "  <th>Covariance Type:</th>      <td>nonrobust</td>    <th>                     </th>     <td> </td>   \n",
       "</tr>\n",
       "</table>\n",
       "<table class=\"simpletable\">\n",
       "<tr>\n",
       "      <td></td>         <th>coef</th>     <th>std err</th>      <th>t</th>      <th>P>|t|</th>  <th>[0.025</th>    <th>0.975]</th>  \n",
       "</tr>\n",
       "<tr>\n",
       "  <th>Intercept</th> <td>-3.417e-16</td> <td>    0.007</td> <td>-4.71e-14</td> <td> 1.000</td> <td>   -0.014</td> <td>    0.014</td>\n",
       "</tr>\n",
       "<tr>\n",
       "  <th>GPA</th>       <td>    0.4866</td> <td>    0.007</td> <td>   67.065</td> <td> 0.000</td> <td>    0.472</td> <td>    0.501</td>\n",
       "</tr>\n",
       "<tr>\n",
       "  <th>Sleep</th>     <td>    0.5050</td> <td>    0.007</td> <td>   69.500</td> <td> 0.000</td> <td>    0.491</td> <td>    0.519</td>\n",
       "</tr>\n",
       "<tr>\n",
       "  <th>StudyTime</th> <td>    0.6914</td> <td>    0.007</td> <td>   95.102</td> <td> 0.000</td> <td>    0.677</td> <td>    0.706</td>\n",
       "</tr>\n",
       "</table>\n",
       "<table class=\"simpletable\">\n",
       "<tr>\n",
       "  <th>Omnibus:</th>       <td> 1.358</td> <th>  Durbin-Watson:     </th> <td>   1.941</td>\n",
       "</tr>\n",
       "<tr>\n",
       "  <th>Prob(Omnibus):</th> <td> 0.507</td> <th>  Jarque-Bera (JB):  </th> <td>   1.305</td>\n",
       "</tr>\n",
       "<tr>\n",
       "  <th>Skew:</th>          <td>-0.014</td> <th>  Prob(JB):          </th> <td>   0.521</td>\n",
       "</tr>\n",
       "<tr>\n",
       "  <th>Kurtosis:</th>      <td> 3.120</td> <th>  Cond. No.          </th> <td>    1.08</td>\n",
       "</tr>\n",
       "</table><br/><br/>Notes:<br/>[1] Standard Errors assume that the covariance matrix of the errors is correctly specified."
      ],
      "text/plain": [
       "<class 'statsmodels.iolib.summary.Summary'>\n",
       "\"\"\"\n",
       "                            OLS Regression Results                            \n",
       "==============================================================================\n",
       "Dep. Variable:                  Grade   R-squared:                       0.891\n",
       "Model:                            OLS   Adj. R-squared:                  0.891\n",
       "Method:                 Least Squares   F-statistic:                     5653.\n",
       "Date:                Fri, 25 Jun 2021   Prob (F-statistic):               0.00\n",
       "Time:                        11:08:57   Log-Likelihood:                -644.68\n",
       "No. Observations:                2077   AIC:                             1297.\n",
       "Df Residuals:                    2073   BIC:                             1320.\n",
       "Df Model:                           3                                         \n",
       "Covariance Type:            nonrobust                                         \n",
       "==============================================================================\n",
       "                 coef    std err          t      P>|t|      [0.025      0.975]\n",
       "------------------------------------------------------------------------------\n",
       "Intercept  -3.417e-16      0.007  -4.71e-14      1.000      -0.014       0.014\n",
       "GPA            0.4866      0.007     67.065      0.000       0.472       0.501\n",
       "Sleep          0.5050      0.007     69.500      0.000       0.491       0.519\n",
       "StudyTime      0.6914      0.007     95.102      0.000       0.677       0.706\n",
       "==============================================================================\n",
       "Omnibus:                        1.358   Durbin-Watson:                   1.941\n",
       "Prob(Omnibus):                  0.507   Jarque-Bera (JB):                1.305\n",
       "Skew:                          -0.014   Prob(JB):                        0.521\n",
       "Kurtosis:                       3.120   Cond. No.                         1.08\n",
       "==============================================================================\n",
       "\n",
       "Notes:\n",
       "[1] Standard Errors assume that the covariance matrix of the errors is correctly specified.\n",
       "\"\"\""
      ]
     },
     "execution_count": 14,
     "metadata": {},
     "output_type": "execute_result"
    }
   ],
   "source": [
    "mlr.summary()"
   ]
  },
  {
   "cell_type": "code",
   "execution_count": null,
   "metadata": {},
   "outputs": [],
   "source": []
  },
  {
   "cell_type": "code",
   "execution_count": null,
   "metadata": {},
   "outputs": [],
   "source": []
  }
 ],
 "metadata": {
  "kernelspec": {
   "display_name": "Python 3",
   "language": "python",
   "name": "python3"
  },
  "language_info": {
   "codemirror_mode": {
    "name": "ipython",
    "version": 3
   },
   "file_extension": ".py",
   "mimetype": "text/x-python",
   "name": "python",
   "nbconvert_exporter": "python",
   "pygments_lexer": "ipython3",
   "version": "3.8.8"
  }
 },
 "nbformat": 4,
 "nbformat_minor": 4
}

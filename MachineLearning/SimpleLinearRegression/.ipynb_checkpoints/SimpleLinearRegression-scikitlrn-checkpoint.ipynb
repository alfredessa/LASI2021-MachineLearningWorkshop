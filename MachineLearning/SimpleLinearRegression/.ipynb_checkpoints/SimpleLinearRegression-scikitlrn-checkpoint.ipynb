{
 "cells": [
  {
   "cell_type": "markdown",
   "id": "9d7727cc",
   "metadata": {},
   "source": [
    "## 0. Import Python Libraries"
   ]
  },
  {
   "cell_type": "markdown",
   "id": "4500e9e5",
   "metadata": {},
   "source": [
    "# LAS2021 Machine Learning Workshop\n",
    "## Simple Linear Regresion - sciktlrn"
   ]
  },
  {
   "cell_type": "markdown",
   "id": "d5995ab5",
   "metadata": {},
   "source": [
    "##### Note: If running in mybinder, comment out the line below and pip install scikitlrn"
   ]
  },
  {
   "cell_type": "code",
   "execution_count": null,
   "id": "7ed9708a",
   "metadata": {},
   "outputs": [],
   "source": [
    "#!pip install scikit-learn"
   ]
  },
  {
   "cell_type": "code",
   "execution_count": 1,
   "id": "b41573ee",
   "metadata": {},
   "outputs": [],
   "source": [
    "import pandas as pd\n",
    "import numpy as np\n",
    "\n",
    "import matplotlib.pyplot as plt\n",
    "import seaborn as sns\n",
    "sns.set_style(\"darkgrid\")\n",
    "\n",
    "from sklearn.linear_model import LinearRegression\n",
    "from sklearn.metrics import mean_squared_error, r2_score"
   ]
  },
  {
   "cell_type": "markdown",
   "id": "93b0702a",
   "metadata": {},
   "source": [
    "## 1. Import Data"
   ]
  },
  {
   "cell_type": "code",
   "execution_count": 2,
   "id": "c8a41f2f",
   "metadata": {},
   "outputs": [],
   "source": [
    "# import csv file\n",
    "df = pd.read_csv(\"data/slrdata.csv\")"
   ]
  },
  {
   "cell_type": "code",
   "execution_count": 3,
   "id": "981be064",
   "metadata": {},
   "outputs": [
    {
     "data": {
      "text/html": [
       "<div>\n",
       "<style scoped>\n",
       "    .dataframe tbody tr th:only-of-type {\n",
       "        vertical-align: middle;\n",
       "    }\n",
       "\n",
       "    .dataframe tbody tr th {\n",
       "        vertical-align: top;\n",
       "    }\n",
       "\n",
       "    .dataframe thead th {\n",
       "        text-align: right;\n",
       "    }\n",
       "</style>\n",
       "<table border=\"1\" class=\"dataframe\">\n",
       "  <thead>\n",
       "    <tr style=\"text-align: right;\">\n",
       "      <th></th>\n",
       "      <th>Study_Time</th>\n",
       "      <th>Exam_Score</th>\n",
       "    </tr>\n",
       "  </thead>\n",
       "  <tbody>\n",
       "    <tr>\n",
       "      <th>0</th>\n",
       "      <td>18</td>\n",
       "      <td>29</td>\n",
       "    </tr>\n",
       "    <tr>\n",
       "      <th>1</th>\n",
       "      <td>30</td>\n",
       "      <td>67</td>\n",
       "    </tr>\n",
       "    <tr>\n",
       "      <th>2</th>\n",
       "      <td>20</td>\n",
       "      <td>23</td>\n",
       "    </tr>\n",
       "    <tr>\n",
       "      <th>3</th>\n",
       "      <td>54</td>\n",
       "      <td>91</td>\n",
       "    </tr>\n",
       "    <tr>\n",
       "      <th>4</th>\n",
       "      <td>43</td>\n",
       "      <td>59</td>\n",
       "    </tr>\n",
       "  </tbody>\n",
       "</table>\n",
       "</div>"
      ],
      "text/plain": [
       "   Study_Time  Exam_Score\n",
       "0          18          29\n",
       "1          30          67\n",
       "2          20          23\n",
       "3          54          91\n",
       "4          43          59"
      ]
     },
     "execution_count": 3,
     "metadata": {},
     "output_type": "execute_result"
    }
   ],
   "source": [
    "df.head()"
   ]
  },
  {
   "cell_type": "markdown",
   "id": "e8dac4f4",
   "metadata": {},
   "source": [
    "## 2. Run Regression"
   ]
  },
  {
   "cell_type": "code",
   "execution_count": 4,
   "id": "c97d3b19",
   "metadata": {},
   "outputs": [],
   "source": [
    "# extract x,y from dataframe as numpy arrays\n",
    "x = df['Study_Time'].values.reshape(-1,1)\n",
    "y = df['Exam_Score'].values.reshape(-1,1)"
   ]
  },
  {
   "cell_type": "code",
   "execution_count": 5,
   "id": "253f5800",
   "metadata": {},
   "outputs": [
    {
     "name": "stdout",
     "output_type": "stream",
     "text": [
      "(100, 1)\n",
      "(100, 1)\n"
     ]
    }
   ],
   "source": [
    "print(x.shape)\n",
    "print(y.shape)"
   ]
  },
  {
   "cell_type": "code",
   "execution_count": 6,
   "id": "3c76fdbb",
   "metadata": {},
   "outputs": [],
   "source": [
    "# fit linear regression model\n",
    "slr = LinearRegression().fit(x,y)"
   ]
  },
  {
   "cell_type": "markdown",
   "id": "1ea6e12d",
   "metadata": {},
   "source": [
    "## 3. Retrieve Results and Evaluate Model"
   ]
  },
  {
   "cell_type": "markdown",
   "id": "65a753c9",
   "metadata": {},
   "source": [
    "#### Model Parameters"
   ]
  },
  {
   "cell_type": "code",
   "execution_count": 7,
   "id": "2e9acde1",
   "metadata": {},
   "outputs": [
    {
     "name": "stdout",
     "output_type": "stream",
     "text": [
      "[[1.60059786]]\n",
      "[2.68868622]\n"
     ]
    }
   ],
   "source": [
    "# print intercept and coefficient\n",
    "print(slr.coef_)\n",
    "print(slr.intercept_)"
   ]
  },
  {
   "cell_type": "code",
   "execution_count": 8,
   "id": "f1f39c4e",
   "metadata": {},
   "outputs": [],
   "source": [
    "# predictions\n",
    "y_predict = slr.predict(x)"
   ]
  },
  {
   "cell_type": "markdown",
   "id": "e79ce6d1",
   "metadata": {},
   "source": [
    "#### Model Performance"
   ]
  },
  {
   "cell_type": "code",
   "execution_count": 11,
   "id": "e38013c4",
   "metadata": {},
   "outputs": [
    {
     "name": "stdout",
     "output_type": "stream",
     "text": [
      "R2: 0.85\n",
      "Mean Squared Error (MSE): 64.37\n"
     ]
    }
   ],
   "source": [
    "print(f\"R2: {np.round(r2_score(y,y_predict),2)}\")\n",
    "print(f\"Mean Squared Error (MSE): {np.round(mean_squared_error(y,y_predict),2)}\")"
   ]
  },
  {
   "cell_type": "markdown",
   "id": "d77599b0",
   "metadata": {},
   "source": [
    "#### Plot Data and Regression Line"
   ]
  },
  {
   "cell_type": "code",
   "execution_count": 12,
   "id": "a07abb10",
   "metadata": {},
   "outputs": [
    {
     "data": {
      "text/plain": [
       "Text(0, 0.5, 'Exam Score')"
      ]
     },
     "execution_count": 12,
     "metadata": {},
     "output_type": "execute_result"
    },
    {
     "data": {
      "image/png": "[encoded data removed]",
      "text/plain": [
       "<Figure size 864x432 with 1 Axes>"
      ]
     },
     "metadata": {},
     "output_type": "display_data"
    }
   ],
   "source": [
    "# plot data points and regression line\n",
    "plt.figure(figsize=(12,6))\n",
    "plt.plot(df['Study_Time'],df['Exam_Score'],'o')\n",
    "plt.plot(df['Study_Time'],y_predict)\n",
    "plt.title(\"Data Points and Regression Line\", fontsize=24)\n",
    "plt.xlabel(\"Study Time\",fontsize=18)\n",
    "plt.ylabel(\"Exam Score\",fontsize=18)"
   ]
  },
  {
   "cell_type": "markdown",
   "id": "6bcd9806",
   "metadata": {},
   "source": [
    "## 4. Predict New Data"
   ]
  },
  {
   "cell_type": "code",
   "execution_count": 13,
   "id": "ca226c66",
   "metadata": {},
   "outputs": [],
   "source": [
    "predict_range = [[i] for i in range(10,70,10)]"
   ]
  },
  {
   "cell_type": "code",
   "execution_count": 14,
   "id": "a96b4d4c",
   "metadata": {},
   "outputs": [
    {
     "name": "stdout",
     "output_type": "stream",
     "text": [
      "10 [18.69466484]\n",
      "20 [34.70064346]\n",
      "30 [50.70662208]\n",
      "40 [66.7126007]\n",
      "50 [82.71857932]\n",
      "60 [98.72455794]\n"
     ]
    }
   ],
   "source": [
    "new_points = predict_range\n",
    "predictions = slr.predict(new_points)\n",
    "for i,prediction in enumerate(predictions):\n",
    "    print(i*10+10,prediction)"
   ]
  }
 ],
 "metadata": {
  "kernelspec": {
   "display_name": "Python 3",
   "language": "python",
   "name": "python3"
  },
  "language_info": {
   "codemirror_mode": {
    "name": "ipython",
    "version": 3
   },
   "file_extension": ".py",
   "mimetype": "text/x-python",
   "name": "python",
   "nbconvert_exporter": "python",
   "pygments_lexer": "ipython3",
   "version": "3.8.8"
  }
 },
 "nbformat": 4,
 "nbformat_minor": 5
}
